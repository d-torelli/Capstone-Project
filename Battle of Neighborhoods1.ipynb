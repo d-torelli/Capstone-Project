{
 "cells": [
  {
   "cell_type": "markdown",
   "metadata": {},
   "source": [
    "## Capstone Project -- Battle of Neighbourhoods"
   ]
  },
  {
   "cell_type": "markdown",
   "metadata": {},
   "source": [
    "### Introduction/Business Problem"
   ]
  },
  {
   "cell_type": "markdown",
   "metadata": {},
   "source": [
    "#### Background"
   ]
  },
  {
   "cell_type": "markdown",
   "metadata": {},
   "source": [
    "BellaVita Ltd is a Food & Beverage venture based in Italy, which is looking to open its new franchise in the New World. \n",
    "Spearhead of this project would be the city of Toronto, CA. <br> The management has opted for it to be the first city in North America where the pilot project will take place. In case of success, the franchise will explore different location across Canada and the US. <br> For this reason, a location in Downtown Toronto needs to be selected for the first opening. BellaVita Ltd has requested our aid in finding the optimal location according to the concept of the venue, in order to maximise the chances of success.<br>\n",
    "\n"
   ]
  },
  {
   "cell_type": "markdown",
   "metadata": {},
   "source": [
    "#### Business Problem"
   ]
  },
  {
   "cell_type": "markdown",
   "metadata": {},
   "source": [
    "The restaurant concept is of a modern and sleek appearance that would cater to business workers during the week. It will offer breakfasts, lunches, afternoon coffees, after-work drinks and dinners. The offer will be a modern italian cuisine born from the experience of business-minded Milan, Italy.\n",
    "\n",
    "\n",
    "With these requirements, the location choice falls into the Downtown macroarea. Within this framework, our task would be to identify which specific sector would offer the most fruitful chances for prosperity, given the concept of the restaurant, and the preferred target.\n",
    "\n",
    "The stakeholders have identified the need of having the restaurant in an area where there are other restaurants, but Italian is not the prominent cuisine available.\n",
    "\n",
    "Taking this into consideration, we will analyze downtown Toronto and its amenities, locations and venues, to find clusters and commonalities, which will point us to the area where it will make more sense to open BellaVita's venue."
   ]
  },
  {
   "cell_type": "code",
   "execution_count": null,
   "metadata": {},
   "outputs": [],
   "source": []
  }
 ],
 "metadata": {
  "kernelspec": {
   "display_name": "Python",
   "language": "python",
   "name": "conda-env-python-py"
  },
  "language_info": {
   "codemirror_mode": {
    "name": "ipython",
    "version": 3
   },
   "file_extension": ".py",
   "mimetype": "text/x-python",
   "name": "python",
   "nbconvert_exporter": "python",
   "pygments_lexer": "ipython3",
   "version": "3.6.10"
  }
 },
 "nbformat": 4,
 "nbformat_minor": 4
}
