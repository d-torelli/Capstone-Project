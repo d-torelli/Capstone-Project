{
 "cells": [
  {
   "cell_type": "markdown",
   "metadata": {},
   "source": [
    "## Capstone Project -- Battle of Neighbourhoods"
   ]
  },
  {
   "cell_type": "markdown",
   "metadata": {},
   "source": [
    "### Introduction/Business Problem"
   ]
  },
  {
   "cell_type": "markdown",
   "metadata": {},
   "source": [
    "#### Background"
   ]
  },
  {
   "cell_type": "markdown",
   "metadata": {},
   "source": [
    "BellaVita Ltd is a Food & Beverage venture based in Italy, which is looking to open its new franchise in the New World. \n",
    "Spearhead of this project would be the city of Toronto, CA. <br> The management has opted for it to be the first city in North America where the pilot project will take place. In case of success, the franchise will explore different location across Canada and the US. <br> For this reason, a location in Downtown Toronto needs to be selected for the first opening. BellaVita Ltd has requested our aid in finding the optimal location according to the concept of the venue, in order to maximise the chances of success.<br>\n",
    "\n"
   ]
  },
  {
   "cell_type": "markdown",
   "metadata": {},
   "source": [
    "#### Business Problem"
   ]
  },
  {
   "cell_type": "markdown",
   "metadata": {},
   "source": [
    "The restaurant concept is of a modern and sleek appearance that would cater to business workers during the week. It will offer breakfasts, lunches, afternoon coffees, after-work drinks and dinners. The offer will be a modern italian cuisine born from the experience of business-minded Milan, Italy. <br>\n",
    "With these requirements, the location choice falls into the Downtown Macroarea. Within this framework, our task would be to identify which specific sector would offer the most fruitful chances for prosperity, given the concept of the restaurant, and the preferred target. <br>\n",
    "Taking this into consideration, we will analyze downtown Toronto and its amenities, locations and venues, to find clusters and commonalities, which will point us to the area where it will make more sense to open BellaVita's venue."
   ]
  },
  {
   "cell_type": "markdown",
   "metadata": {},
   "source": [
    "### Data Section"
   ]
  },
  {
   "cell_type": "markdown",
   "metadata": {},
   "source": [
    "For this endeavour we are going through a database of neighborhoods in Toronto extracted from Wikipedia at https://en.wikipedia.org/wiki/List_of_postal_codes_of_Canada:_M. Having selected details such as Postal Code, Borough and Neighborhood we are able to restrict the field only to those areas pertaining to Downtown Toronto.<br> \n",
    "The product is a list of neighborhoods which has then been georeferenced for further use.<br>\n",
    "To explore and target recommended locations, we will access data through FourSquare API interface and arrange them as a dataframe for visualization. Through FourSquare we are going to arrange and visualize data on the most common venue types in our clusters of neighborhoods, which will then help us making a decision."
   ]
  },
  {
   "cell_type": "code",
   "execution_count": null,
   "metadata": {},
   "outputs": [],
   "source": []
  }
 ],
 "metadata": {
  "kernelspec": {
   "display_name": "Python",
   "language": "python",
   "name": "conda-env-python-py"
  },
  "language_info": {
   "codemirror_mode": {
    "name": "ipython",
    "version": 3
   },
   "file_extension": ".py",
   "mimetype": "text/x-python",
   "name": "python",
   "nbconvert_exporter": "python",
   "pygments_lexer": "ipython3",
   "version": "3.6.10"
  }
 },
 "nbformat": 4,
 "nbformat_minor": 4
}
